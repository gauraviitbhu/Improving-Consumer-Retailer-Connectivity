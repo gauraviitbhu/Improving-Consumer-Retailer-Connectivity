{
 "cells": [
  {
   "cell_type": "code",
   "execution_count": 87,
   "metadata": {},
   "outputs": [],
   "source": [
    "import pandas as pd\n",
    "import numpy as np\n",
    "import matplotlib.pyplot as plt\n",
    "import seaborn as sns\n",
    "from mlxtend.frequent_patterns import apriori\n",
    "from mlxtend.frequent_patterns import association_rules"
   ]
  },
  {
   "cell_type": "code",
   "execution_count": 88,
   "metadata": {},
   "outputs": [],
   "source": [
    "#importing the data tables\n",
    "\n",
    "df = pd.read_csv(\"Customer_Final_Purchasing_Dataset.csv\")\n",
    "products = pd.read_csv(\"Products_Description.csv\")"
   ]
  },
  {
   "cell_type": "code",
   "execution_count": 73,
   "metadata": {},
   "outputs": [
    {
     "data": {
      "text/html": [
       "<div>\n",
       "<style scoped>\n",
       "    .dataframe tbody tr th:only-of-type {\n",
       "        vertical-align: middle;\n",
       "    }\n",
       "\n",
       "    .dataframe tbody tr th {\n",
       "        vertical-align: top;\n",
       "    }\n",
       "\n",
       "    .dataframe thead th {\n",
       "        text-align: right;\n",
       "    }\n",
       "</style>\n",
       "<table border=\"1\" class=\"dataframe\">\n",
       "  <thead>\n",
       "    <tr style=\"text-align: right;\">\n",
       "      <th></th>\n",
       "      <th>TransactionID</th>\n",
       "      <th>Transaction</th>\n",
       "      <th>CustomerID</th>\n",
       "      <th>Mobile_number</th>\n",
       "      <th>Customer Name</th>\n",
       "      <th>Age</th>\n",
       "      <th>Billing Without GST</th>\n",
       "      <th>Billing With GST</th>\n",
       "      <th>Date</th>\n",
       "      <th>Zip Code</th>\n",
       "    </tr>\n",
       "  </thead>\n",
       "  <tbody>\n",
       "    <tr>\n",
       "      <td>0</td>\n",
       "      <td>TI0001</td>\n",
       "      <td>['Camera', 'Camera-holder', 'SD-card']</td>\n",
       "      <td>CUST023</td>\n",
       "      <td>7023711077</td>\n",
       "      <td>Safyr</td>\n",
       "      <td>28.0</td>\n",
       "      <td>53750</td>\n",
       "      <td>60200</td>\n",
       "      <td>1/1/2017</td>\n",
       "      <td>54935</td>\n",
       "    </tr>\n",
       "    <tr>\n",
       "      <td>1</td>\n",
       "      <td>TI0002</td>\n",
       "      <td>['Camera', 'Focus-lens', 'Camera-holder', 'SD-...</td>\n",
       "      <td>CUST012</td>\n",
       "      <td>7023711088</td>\n",
       "      <td>Ballinamore</td>\n",
       "      <td>24.0</td>\n",
       "      <td>68750</td>\n",
       "      <td>77000</td>\n",
       "      <td>1/1/2017</td>\n",
       "      <td>54169</td>\n",
       "    </tr>\n",
       "    <tr>\n",
       "      <td>2</td>\n",
       "      <td>TI0003</td>\n",
       "      <td>['Auto-focus-mount-adapter', 'Camera', 'Photog...</td>\n",
       "      <td>CUST034</td>\n",
       "      <td>7023711066</td>\n",
       "      <td>Sahib</td>\n",
       "      <td>59.0</td>\n",
       "      <td>70050</td>\n",
       "      <td>78456</td>\n",
       "      <td>1/1/2017</td>\n",
       "      <td>54964</td>\n",
       "    </tr>\n",
       "    <tr>\n",
       "      <td>3</td>\n",
       "      <td>TI0004</td>\n",
       "      <td>['Camera', 'Focus-lens', 'Camera-holder', 'SD-...</td>\n",
       "      <td>CUST008</td>\n",
       "      <td>7023711092</td>\n",
       "      <td>Ballad</td>\n",
       "      <td>22.0</td>\n",
       "      <td>68750</td>\n",
       "      <td>77000</td>\n",
       "      <td>1/1/2017</td>\n",
       "      <td>54061</td>\n",
       "    </tr>\n",
       "    <tr>\n",
       "      <td>4</td>\n",
       "      <td>TI0005</td>\n",
       "      <td>['Camera', 'Photographic-lighting', 'Camera-ho...</td>\n",
       "      <td>CUST029</td>\n",
       "      <td>7023711071</td>\n",
       "      <td>Sagiv</td>\n",
       "      <td>30.0</td>\n",
       "      <td>56100</td>\n",
       "      <td>62832</td>\n",
       "      <td>1/1/2017</td>\n",
       "      <td>54952</td>\n",
       "    </tr>\n",
       "  </tbody>\n",
       "</table>\n",
       "</div>"
      ],
      "text/plain": [
       "  TransactionID                                        Transaction CustomerID  \\\n",
       "0        TI0001             ['Camera', 'Camera-holder', 'SD-card']    CUST023   \n",
       "1        TI0002  ['Camera', 'Focus-lens', 'Camera-holder', 'SD-...    CUST012   \n",
       "2        TI0003  ['Auto-focus-mount-adapter', 'Camera', 'Photog...    CUST034   \n",
       "3        TI0004  ['Camera', 'Focus-lens', 'Camera-holder', 'SD-...    CUST008   \n",
       "4        TI0005  ['Camera', 'Photographic-lighting', 'Camera-ho...    CUST029   \n",
       "\n",
       "   Mobile_number Customer Name   Age  Billing Without GST  Billing With GST  \\\n",
       "0     7023711077         Safyr  28.0                53750             60200   \n",
       "1     7023711088   Ballinamore  24.0                68750             77000   \n",
       "2     7023711066         Sahib  59.0                70050             78456   \n",
       "3     7023711092        Ballad  22.0                68750             77000   \n",
       "4     7023711071         Sagiv  30.0                56100             62832   \n",
       "\n",
       "       Date  Zip Code  \n",
       "0  1/1/2017     54935  \n",
       "1  1/1/2017     54169  \n",
       "2  1/1/2017     54964  \n",
       "3  1/1/2017     54061  \n",
       "4  1/1/2017     54952  "
      ]
     },
     "execution_count": 73,
     "metadata": {},
     "output_type": "execute_result"
    }
   ],
   "source": [
    "#Checking transaction dataset\n",
    "df.head()"
   ]
  },
  {
   "cell_type": "code",
   "execution_count": 74,
   "metadata": {},
   "outputs": [
    {
     "data": {
      "text/html": [
       "<div>\n",
       "<style scoped>\n",
       "    .dataframe tbody tr th:only-of-type {\n",
       "        vertical-align: middle;\n",
       "    }\n",
       "\n",
       "    .dataframe tbody tr th {\n",
       "        vertical-align: top;\n",
       "    }\n",
       "\n",
       "    .dataframe thead th {\n",
       "        text-align: right;\n",
       "    }\n",
       "</style>\n",
       "<table border=\"1\" class=\"dataframe\">\n",
       "  <thead>\n",
       "    <tr style=\"text-align: right;\">\n",
       "      <th></th>\n",
       "      <th>Product Name</th>\n",
       "      <th>Costing Price</th>\n",
       "      <th>Selling Price</th>\n",
       "      <th>Profit</th>\n",
       "    </tr>\n",
       "  </thead>\n",
       "  <tbody>\n",
       "    <tr>\n",
       "      <td>0</td>\n",
       "      <td>Mobile-phone</td>\n",
       "      <td>40500.0</td>\n",
       "      <td>45000</td>\n",
       "      <td>4500.0</td>\n",
       "    </tr>\n",
       "    <tr>\n",
       "      <td>1</td>\n",
       "      <td>Screen-Protector</td>\n",
       "      <td>90.0</td>\n",
       "      <td>300</td>\n",
       "      <td>210.0</td>\n",
       "    </tr>\n",
       "    <tr>\n",
       "      <td>2</td>\n",
       "      <td>Sim</td>\n",
       "      <td>120.0</td>\n",
       "      <td>150</td>\n",
       "      <td>30.0</td>\n",
       "    </tr>\n",
       "    <tr>\n",
       "      <td>3</td>\n",
       "      <td>Cover-Case</td>\n",
       "      <td>440.0</td>\n",
       "      <td>1100</td>\n",
       "      <td>660.0</td>\n",
       "    </tr>\n",
       "    <tr>\n",
       "      <td>4</td>\n",
       "      <td>Earphones</td>\n",
       "      <td>2000.0</td>\n",
       "      <td>2500</td>\n",
       "      <td>500.0</td>\n",
       "    </tr>\n",
       "    <tr>\n",
       "      <td>5</td>\n",
       "      <td>Power-Bank</td>\n",
       "      <td>1250.0</td>\n",
       "      <td>2500</td>\n",
       "      <td>1250.0</td>\n",
       "    </tr>\n",
       "    <tr>\n",
       "      <td>6</td>\n",
       "      <td>Camera</td>\n",
       "      <td>35000.0</td>\n",
       "      <td>50000</td>\n",
       "      <td>15000.0</td>\n",
       "    </tr>\n",
       "    <tr>\n",
       "      <td>7</td>\n",
       "      <td>Focus-lens</td>\n",
       "      <td>9600.0</td>\n",
       "      <td>15000</td>\n",
       "      <td>5400.0</td>\n",
       "    </tr>\n",
       "    <tr>\n",
       "      <td>8</td>\n",
       "      <td>SD-card</td>\n",
       "      <td>1187.5</td>\n",
       "      <td>1250</td>\n",
       "      <td>62.5</td>\n",
       "    </tr>\n",
       "    <tr>\n",
       "      <td>9</td>\n",
       "      <td>Camera-holder</td>\n",
       "      <td>1875.0</td>\n",
       "      <td>2500</td>\n",
       "      <td>625.0</td>\n",
       "    </tr>\n",
       "    <tr>\n",
       "      <td>10</td>\n",
       "      <td>Auto-focus-mount-adapter</td>\n",
       "      <td>12495.0</td>\n",
       "      <td>14700</td>\n",
       "      <td>2205.0</td>\n",
       "    </tr>\n",
       "    <tr>\n",
       "      <td>11</td>\n",
       "      <td>Tripod-stand</td>\n",
       "      <td>1172.5</td>\n",
       "      <td>1750</td>\n",
       "      <td>577.5</td>\n",
       "    </tr>\n",
       "    <tr>\n",
       "      <td>12</td>\n",
       "      <td>Photographic-lighting</td>\n",
       "      <td>2700.0</td>\n",
       "      <td>3600</td>\n",
       "      <td>900.0</td>\n",
       "    </tr>\n",
       "  </tbody>\n",
       "</table>\n",
       "</div>"
      ],
      "text/plain": [
       "                Product Name  Costing Price  Selling Price   Profit\n",
       "0               Mobile-phone        40500.0          45000   4500.0\n",
       "1           Screen-Protector           90.0            300    210.0\n",
       "2                        Sim          120.0            150     30.0\n",
       "3                 Cover-Case          440.0           1100    660.0\n",
       "4                  Earphones         2000.0           2500    500.0\n",
       "5                 Power-Bank         1250.0           2500   1250.0\n",
       "6                     Camera        35000.0          50000  15000.0\n",
       "7                 Focus-lens         9600.0          15000   5400.0\n",
       "8                    SD-card         1187.5           1250     62.5\n",
       "9              Camera-holder         1875.0           2500    625.0\n",
       "10  Auto-focus-mount-adapter        12495.0          14700   2205.0\n",
       "11              Tripod-stand         1172.5           1750    577.5\n",
       "12     Photographic-lighting         2700.0           3600    900.0"
      ]
     },
     "execution_count": 74,
     "metadata": {},
     "output_type": "execute_result"
    }
   ],
   "source": [
    "#Checking Product dataset\n",
    "products"
   ]
  },
  {
   "cell_type": "code",
   "execution_count": 75,
   "metadata": {},
   "outputs": [
    {
     "name": "stdout",
     "output_type": "stream",
     "text": [
      "<class 'pandas.core.frame.DataFrame'>\n",
      "RangeIndex: 440 entries, 0 to 439\n",
      "Data columns (total 10 columns):\n",
      "TransactionID          440 non-null object\n",
      "Transaction            440 non-null object\n",
      "CustomerID             440 non-null object\n",
      "Mobile_number          440 non-null int64\n",
      "Customer Name          437 non-null object\n",
      "Age                    426 non-null float64\n",
      "Billing Without GST    440 non-null int64\n",
      "Billing With GST       440 non-null int64\n",
      "Date                   440 non-null object\n",
      "Zip Code               440 non-null int64\n",
      "dtypes: float64(1), int64(4), object(5)\n",
      "memory usage: 34.5+ KB\n"
     ]
    }
   ],
   "source": [
    "df.info()"
   ]
  },
  {
   "cell_type": "code",
   "execution_count": 76,
   "metadata": {},
   "outputs": [
    {
     "name": "stdout",
     "output_type": "stream",
     "text": [
      "<class 'pandas.core.frame.DataFrame'>\n",
      "RangeIndex: 13 entries, 0 to 12\n",
      "Data columns (total 4 columns):\n",
      "Product Name     13 non-null object\n",
      "Costing Price    13 non-null float64\n",
      "Selling Price    13 non-null int64\n",
      "Profit           13 non-null float64\n",
      "dtypes: float64(2), int64(1), object(1)\n",
      "memory usage: 544.0+ bytes\n"
     ]
    }
   ],
   "source": [
    "products.info()"
   ]
  },
  {
   "cell_type": "code",
   "execution_count": 77,
   "metadata": {},
   "outputs": [
    {
     "data": {
      "text/html": [
       "<div>\n",
       "<style scoped>\n",
       "    .dataframe tbody tr th:only-of-type {\n",
       "        vertical-align: middle;\n",
       "    }\n",
       "\n",
       "    .dataframe tbody tr th {\n",
       "        vertical-align: top;\n",
       "    }\n",
       "\n",
       "    .dataframe thead th {\n",
       "        text-align: right;\n",
       "    }\n",
       "</style>\n",
       "<table border=\"1\" class=\"dataframe\">\n",
       "  <thead>\n",
       "    <tr style=\"text-align: right;\">\n",
       "      <th></th>\n",
       "      <th>Mobile_number</th>\n",
       "      <th>Age</th>\n",
       "      <th>Billing Without GST</th>\n",
       "      <th>Billing With GST</th>\n",
       "      <th>Zip Code</th>\n",
       "    </tr>\n",
       "  </thead>\n",
       "  <tbody>\n",
       "    <tr>\n",
       "      <td>count</td>\n",
       "      <td>4.400000e+02</td>\n",
       "      <td>426.000000</td>\n",
       "      <td>440.000000</td>\n",
       "      <td>440.000000</td>\n",
       "      <td>440.000000</td>\n",
       "    </tr>\n",
       "    <tr>\n",
       "      <td>mean</td>\n",
       "      <td>7.023711e+09</td>\n",
       "      <td>33.814554</td>\n",
       "      <td>36547.272727</td>\n",
       "      <td>40932.945455</td>\n",
       "      <td>54480.797727</td>\n",
       "    </tr>\n",
       "    <tr>\n",
       "      <td>std</td>\n",
       "      <td>1.159559e+01</td>\n",
       "      <td>13.840805</td>\n",
       "      <td>24842.923245</td>\n",
       "      <td>27824.074035</td>\n",
       "      <td>939.575326</td>\n",
       "    </tr>\n",
       "    <tr>\n",
       "      <td>min</td>\n",
       "      <td>7.023711e+09</td>\n",
       "      <td>15.000000</td>\n",
       "      <td>150.000000</td>\n",
       "      <td>168.000000</td>\n",
       "      <td>50201.000000</td>\n",
       "    </tr>\n",
       "    <tr>\n",
       "      <td>25%</td>\n",
       "      <td>7.023711e+09</td>\n",
       "      <td>25.000000</td>\n",
       "      <td>4050.000000</td>\n",
       "      <td>4536.000000</td>\n",
       "      <td>54136.000000</td>\n",
       "    </tr>\n",
       "    <tr>\n",
       "      <td>50%</td>\n",
       "      <td>7.023711e+09</td>\n",
       "      <td>27.000000</td>\n",
       "      <td>46100.000000</td>\n",
       "      <td>51632.000000</td>\n",
       "      <td>54927.000000</td>\n",
       "    </tr>\n",
       "    <tr>\n",
       "      <td>75%</td>\n",
       "      <td>7.023711e+09</td>\n",
       "      <td>52.000000</td>\n",
       "      <td>53750.000000</td>\n",
       "      <td>60200.000000</td>\n",
       "      <td>54957.000000</td>\n",
       "    </tr>\n",
       "    <tr>\n",
       "      <td>max</td>\n",
       "      <td>7.023711e+09</td>\n",
       "      <td>59.000000</td>\n",
       "      <td>83450.000000</td>\n",
       "      <td>93464.000000</td>\n",
       "      <td>55404.000000</td>\n",
       "    </tr>\n",
       "  </tbody>\n",
       "</table>\n",
       "</div>"
      ],
      "text/plain": [
       "       Mobile_number         Age  Billing Without GST  Billing With GST  \\\n",
       "count   4.400000e+02  426.000000           440.000000        440.000000   \n",
       "mean    7.023711e+09   33.814554         36547.272727      40932.945455   \n",
       "std     1.159559e+01   13.840805         24842.923245      27824.074035   \n",
       "min     7.023711e+09   15.000000           150.000000        168.000000   \n",
       "25%     7.023711e+09   25.000000          4050.000000       4536.000000   \n",
       "50%     7.023711e+09   27.000000         46100.000000      51632.000000   \n",
       "75%     7.023711e+09   52.000000         53750.000000      60200.000000   \n",
       "max     7.023711e+09   59.000000         83450.000000      93464.000000   \n",
       "\n",
       "           Zip Code  \n",
       "count    440.000000  \n",
       "mean   54480.797727  \n",
       "std      939.575326  \n",
       "min    50201.000000  \n",
       "25%    54136.000000  \n",
       "50%    54927.000000  \n",
       "75%    54957.000000  \n",
       "max    55404.000000  "
      ]
     },
     "execution_count": 77,
     "metadata": {},
     "output_type": "execute_result"
    }
   ],
   "source": [
    "#Describing transaction data\n",
    "df.describe()"
   ]
  },
  {
   "cell_type": "markdown",
   "metadata": {},
   "source": [
    "### Handling Missing value..."
   ]
  },
  {
   "cell_type": "code",
   "execution_count": 78,
   "metadata": {},
   "outputs": [
    {
     "data": {
      "text/plain": [
       "<matplotlib.axes._subplots.AxesSubplot at 0x22d6cbb1388>"
      ]
     },
     "execution_count": 78,
     "metadata": {},
     "output_type": "execute_result"
    },
    {
     "data": {
      "image/png": "[encoded data removed]",
      "text/plain": [
       "<Figure size 432x288 with 1 Axes>"
      ]
     },
     "metadata": {},
     "output_type": "display_data"
    }
   ],
   "source": [
    "#Visuallizing missing value using heatmap\n",
    "sns.heatmap(df.isnull(),yticklabels=False,cbar=False,cmap='viridis')"
   ]
  },
  {
   "cell_type": "markdown",
   "metadata": {},
   "source": [
    "#### As we can see there are some data missing in Age and name column"
   ]
  },
  {
   "cell_type": "code",
   "execution_count": 80,
   "metadata": {},
   "outputs": [],
   "source": [
    "# Filling age missing data with average of ages\n",
    "mean_age = np.mean(df['Age'])\n",
    "mean_age = round(mean_age)\n",
    "df[\"Age\"].fillna(mean_age, inplace = True)"
   ]
  },
  {
   "cell_type": "code",
   "execution_count": 81,
   "metadata": {},
   "outputs": [],
   "source": [
    "# Filling name missing data with default name\n",
    "df[\"Customer Name\"].fillna(\"No-Name\", inplace = True)"
   ]
  },
  {
   "cell_type": "code",
   "execution_count": 82,
   "metadata": {},
   "outputs": [
    {
     "data": {
      "text/plain": [
       "<matplotlib.axes._subplots.AxesSubplot at 0x22d6cbf27c8>"
      ]
     },
     "execution_count": 82,
     "metadata": {},
     "output_type": "execute_result"
    },
    {
     "data": {
      "image/png": "[encoded data removed]",
      "text/plain": [
       "<Figure size 432x288 with 1 Axes>"
      ]
     },
     "metadata": {},
     "output_type": "display_data"
    }
   ],
   "source": [
    "#Visuallizing missing value using heatmap Now there is no missing values\n",
    "sns.heatmap(df.isnull(),yticklabels=False,cbar=False,cmap='viridis')"
   ]
  },
  {
   "cell_type": "markdown",
   "metadata": {},
   "source": [
    "### Data Analysis on Product "
   ]
  },
  {
   "cell_type": "code",
   "execution_count": 89,
   "metadata": {},
   "outputs": [
    {
     "data": {
      "text/plain": [
       "<matplotlib.axes._subplots.AxesSubplot at 0x22d6d448b08>"
      ]
     },
     "execution_count": 89,
     "metadata": {},
     "output_type": "execute_result"
    },
    {
     "data": {
      "image/png": "[encoded data removed]",
      "text/plain": [
       "<Figure size 1440x576 with 1 Axes>"
      ]
     },
     "metadata": {},
     "output_type": "display_data"
    }
   ],
   "source": [
    "# Unit Profit margin comparision of different products....\n",
    "fig_dims = (20, 8)\n",
    "fig, ax = plt.subplots(figsize=fig_dims)\n",
    "sns.set_style('whitegrid')\n",
    "sns.barplot(y='Profit',x='Product Name',data=products,palette='RdBu_r',ax=ax)"
   ]
  },
  {
   "cell_type": "code",
   "execution_count": 90,
   "metadata": {},
   "outputs": [],
   "source": [
    "# Indivisual quantity of products purchased\n",
    "dic = {}\n",
    "for t in df[\"Transaction\"]:\n",
    "    lst = t.split(\"'\")\n",
    "    for x in lst:\n",
    "        if x in dic:\n",
    "            dic[x] = dic[x]+1\n",
    "        else:\n",
    "            dic[x] = 1"
   ]
  },
  {
   "cell_type": "code",
   "execution_count": 91,
   "metadata": {},
   "outputs": [
    {
     "data": {
      "text/plain": [
       "440"
      ]
     },
     "execution_count": 91,
     "metadata": {},
     "output_type": "execute_result"
    }
   ],
   "source": [
    "dic.pop(', ')\n",
    "dic.pop('[')\n",
    "dic.pop(']')"
   ]
  },
  {
   "cell_type": "code",
   "execution_count": 92,
   "metadata": {},
   "outputs": [
    {
     "data": {
      "text/plain": [
       "{'Camera': 159,\n",
       " 'Camera-holder': 133,\n",
       " 'SD-card': 210,\n",
       " 'Focus-lens': 82,\n",
       " 'Auto-focus-mount-adapter': 41,\n",
       " 'Photographic-lighting': 29,\n",
       " 'Tripod-stand': 34,\n",
       " 'Cover-Case': 48,\n",
       " 'Screen-Protector': 83,\n",
       " 'Sim': 110,\n",
       " 'Mobile-phone': 117,\n",
       " 'Earphones': 57,\n",
       " 'Power-Bank': 15}"
      ]
     },
     "execution_count": 92,
     "metadata": {},
     "output_type": "execute_result"
    }
   ],
   "source": [
    "# dic contain keys as products and values as quantity of product sold\n",
    "dic"
   ]
  },
  {
   "cell_type": "code",
   "execution_count": 93,
   "metadata": {},
   "outputs": [
    {
     "data": {
      "text/plain": [
       "Text(0, 0.5, 'Total Sales')"
      ]
     },
     "execution_count": 93,
     "metadata": {},
     "output_type": "execute_result"
    },
    {
     "data": {
      "image/png": "[encoded data removed]",
      "text/plain": [
       "<Figure size 1440x576 with 1 Axes>"
      ]
     },
     "metadata": {},
     "output_type": "display_data"
    }
   ],
   "source": [
    "# Bar graph showing indivisual product sales\n",
    "pro = dic.keys()\n",
    "freq = dic.values()\n",
    "fig_dims = (20, 8)\n",
    "fig, ax = plt.subplots(figsize=fig_dims)\n",
    "sns.set_style('whitegrid')\n",
    "plt.bar(pro, freq)\n",
    "ax.set_xlabel('Products')\n",
    "ax.set_ylabel('Total Sales')"
   ]
  },
  {
   "cell_type": "code",
   "execution_count": 94,
   "metadata": {},
   "outputs": [],
   "source": [
    "# dictionary with product and thier unit price \n",
    "dic_product_unitPrice = {}\n",
    "i = 0\n",
    "for k in products['Product Name']:\n",
    "        dic_product_unitPrice[k] = products['Profit'][i]\n",
    "        i = i+1"
   ]
  },
  {
   "cell_type": "code",
   "execution_count": 95,
   "metadata": {},
   "outputs": [
    {
     "data": {
      "text/plain": [
       "{'Mobile-phone': 526500.0,\n",
       " 'Screen-Protector': 17430.0,\n",
       " 'Sim': 3300.0,\n",
       " 'Cover-Case': 31680.0,\n",
       " 'Earphones': 28500.0,\n",
       " 'Power-Bank': 18750.0,\n",
       " 'Camera': 795000.0,\n",
       " 'Focus-lens': 442800.0,\n",
       " 'SD-card': 13125.0,\n",
       " 'Camera-holder': 83125.0,\n",
       " 'Auto-focus-mount-adapter': 90405.0,\n",
       " 'Tripod-stand': 19635.0,\n",
       " 'Photographic-lighting': 26100.0}"
      ]
     },
     "execution_count": 95,
     "metadata": {},
     "output_type": "execute_result"
    }
   ],
   "source": [
    "# Total profit generated from different products....\n",
    "dic_total_sale = {}\n",
    "for k in dic_product_unitPrice:\n",
    "    dic_total_sale[k] = dic[k]*dic_product_unitPrice[k]\n",
    "dic_total_sale"
   ]
  },
  {
   "cell_type": "code",
   "execution_count": 96,
   "metadata": {},
   "outputs": [
    {
     "data": {
      "text/plain": [
       "Text(0, 0.5, 'Total Sales')"
      ]
     },
     "execution_count": 96,
     "metadata": {},
     "output_type": "execute_result"
    },
    {
     "data": {
      "image/png": "[encoded data removed]",
      "text/plain": [
       "<Figure size 1440x576 with 1 Axes>"
      ]
     },
     "metadata": {},
     "output_type": "display_data"
    }
   ],
   "source": [
    "# Comparision of Total profit generated among different products....\n",
    "fig_dims = (20, 8)\n",
    "fig, ax = plt.subplots(figsize=fig_dims)\n",
    "sns.set_style('whitegrid')\n",
    "plt.bar(dic_total_sale.keys(), dic_total_sale.values())\n",
    "ax.set_xlabel('Products')\n",
    "ax.set_ylabel('Total Sales')"
   ]
  },
  {
   "cell_type": "code",
   "execution_count": 97,
   "metadata": {},
   "outputs": [
    {
     "name": "stdout",
     "output_type": "stream",
     "text": [
      "['Sim'] ['Camera']\n"
     ]
    }
   ],
   "source": [
    "temp = min(dic_total_sale.values()) \n",
    "min_profit_product = [key for key in dic_total_sale if dic_total_sale[key] == temp] \n",
    "temp = max(dic_total_sale.values()) \n",
    "max_profit_product = [key for key in dic_total_sale if dic_total_sale[key] == temp] \n",
    "print(min_profit_product,max_profit_product)"
   ]
  },
  {
   "cell_type": "markdown",
   "metadata": {},
   "source": [
    "### As clearly see and by calculation Camera contributed to highest profit and sim contributed to lowest profit "
   ]
  },
  {
   "cell_type": "markdown",
   "metadata": {},
   "source": [
    "### Data Analysis for understanding customers"
   ]
  },
  {
   "cell_type": "code",
   "execution_count": 98,
   "metadata": {},
   "outputs": [
    {
     "data": {
      "text/plain": [
       "<matplotlib.axes._subplots.AxesSubplot at 0x22d6d729088>"
      ]
     },
     "execution_count": 98,
     "metadata": {},
     "output_type": "execute_result"
    },
    {
     "data": {
      "image/png": "[encoded data removed]",
      "text/plain": [
       "<Figure size 1080x288 with 1 Axes>"
      ]
     },
     "metadata": {},
     "output_type": "display_data"
    }
   ],
   "source": [
    "# Which age group is more active in buying\n",
    "fig_dims = (15, 4)\n",
    "fig, ax = plt.subplots(figsize=fig_dims)\n",
    "sns.set_style('whitegrid')\n",
    "sns.countplot(x='Age',data=df,palette='RdBu_r',ax = ax)"
   ]
  },
  {
   "cell_type": "markdown",
   "metadata": {},
   "source": [
    "#### We need to more focus on y"
   ]
  },
  {
   "cell_type": "code",
   "execution_count": 99,
   "metadata": {},
   "outputs": [
    {
     "data": {
      "text/plain": [
       "<matplotlib.axes._subplots.AxesSubplot at 0x22d6dc814c8>"
      ]
     },
     "execution_count": 99,
     "metadata": {},
     "output_type": "execute_result"
    },
    {
     "data": {
      "image/png": "[encoded data removed]",
      "text/plain": [
       "<Figure size 1800x576 with 1 Axes>"
      ]
     },
     "metadata": {},
     "output_type": "display_data"
    }
   ],
   "source": [
    "# Frequency of Purchase amoung different customers\n",
    "fig_dims = (25, 8)\n",
    "fig, ax = plt.subplots(figsize=fig_dims)\n",
    "sns.set_style('whitegrid')\n",
    "sns.countplot(x='CustomerID',data=df,palette='RdBu_r',ax=ax)"
   ]
  },
  {
   "cell_type": "code",
   "execution_count": 100,
   "metadata": {},
   "outputs": [
    {
     "data": {
      "text/plain": [
       "CUST038    17\n",
       "CUST015    16\n",
       "CUST021    16\n",
       "CUST007    16\n",
       "CUST031    15\n",
       "CUST033    14\n",
       "CUST016    14\n",
       "CUST037    14\n",
       "CUST011    13\n",
       "CUST024    13\n",
       "Name: CustomerID, dtype: int64"
      ]
     },
     "execution_count": 100,
     "metadata": {},
     "output_type": "execute_result"
    }
   ],
   "source": [
    "#Top 10 buying customer\n",
    "df[\"CustomerID\"].value_counts()[:10]"
   ]
  },
  {
   "cell_type": "code",
   "execution_count": 59,
   "metadata": {},
   "outputs": [],
   "source": [
    "# Hence these constumers are more into focus for marketing."
   ]
  },
  {
   "cell_type": "code",
   "execution_count": null,
   "metadata": {},
   "outputs": [],
   "source": []
  }
 ],
 "metadata": {
  "kernelspec": {
   "display_name": "Python 3",
   "language": "python",
   "name": "python3"
  },
  "language_info": {
   "codemirror_mode": {
    "name": "ipython",
    "version": 3
   },
   "file_extension": ".py",
   "mimetype": "text/x-python",
   "name": "python",
   "nbconvert_exporter": "python",
   "pygments_lexer": "ipython3",
   "version": "3.7.4"
  }
 },
 "nbformat": 4,
 "nbformat_minor": 2
}
