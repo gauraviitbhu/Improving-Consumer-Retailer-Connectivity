{
 "cells": [
  {
   "cell_type": "code",
   "execution_count": 14,
   "metadata": {},
   "outputs": [],
   "source": [
    "import pandas as pd\n",
    "import numpy as np\n",
    "pd.set_option(\"display.max.columns\",None)\n",
    "pd.set_option(\"display.max.rows\",None)\n",
    "from IPython.core.interactiveshell import InteractiveShell\n",
    "InteractiveShell.ast_node_interactivity = \"all\"\n",
    "import matplotlib.pyplot as plt\n",
    "from pandas.plotting import register_matplotlib_converters\n",
    "register_matplotlib_converters()\n",
    "import scipy.stats as stats\n",
    "import matplotlib.pyplot as plt\n",
    "import seaborn as sns\n",
    "from sklearn.model_selection import train_test_split\n",
    "from sklearn.metrics import mean_squared_error, mean_absolute_error\n",
    "from datetime import datetime\n",
    "import math\n",
    "\n",
    "%matplotlib inline\n",
    "from scipy.stats import skew\n",
    "import sys"
   ]
  },
  {
   "cell_type": "code",
   "execution_count": 3,
   "metadata": {},
   "outputs": [
    {
     "data": {
      "text/html": [
       "<div>\n",
       "<style scoped>\n",
       "    .dataframe tbody tr th:only-of-type {\n",
       "        vertical-align: middle;\n",
       "    }\n",
       "\n",
       "    .dataframe tbody tr th {\n",
       "        vertical-align: top;\n",
       "    }\n",
       "\n",
       "    .dataframe thead th {\n",
       "        text-align: right;\n",
       "    }\n",
       "</style>\n",
       "<table border=\"1\" class=\"dataframe\">\n",
       "  <thead>\n",
       "    <tr style=\"text-align: right;\">\n",
       "      <th></th>\n",
       "      <th>Store</th>\n",
       "      <th>Date</th>\n",
       "      <th>Temperature</th>\n",
       "      <th>Fuel_Price</th>\n",
       "      <th>MarkDown1</th>\n",
       "      <th>MarkDown2</th>\n",
       "      <th>MarkDown3</th>\n",
       "      <th>MarkDown4</th>\n",
       "      <th>MarkDown5</th>\n",
       "      <th>CPI</th>\n",
       "      <th>Unemployment</th>\n",
       "      <th>IsHoliday</th>\n",
       "    </tr>\n",
       "  </thead>\n",
       "  <tbody>\n",
       "    <tr>\n",
       "      <th>0</th>\n",
       "      <td>1</td>\n",
       "      <td>2010-02-05</td>\n",
       "      <td>42.31</td>\n",
       "      <td>2.572</td>\n",
       "      <td>NaN</td>\n",
       "      <td>NaN</td>\n",
       "      <td>NaN</td>\n",
       "      <td>NaN</td>\n",
       "      <td>NaN</td>\n",
       "      <td>211.096358</td>\n",
       "      <td>8.106</td>\n",
       "      <td>False</td>\n",
       "    </tr>\n",
       "    <tr>\n",
       "      <th>1</th>\n",
       "      <td>1</td>\n",
       "      <td>2010-02-12</td>\n",
       "      <td>38.51</td>\n",
       "      <td>2.548</td>\n",
       "      <td>NaN</td>\n",
       "      <td>NaN</td>\n",
       "      <td>NaN</td>\n",
       "      <td>NaN</td>\n",
       "      <td>NaN</td>\n",
       "      <td>211.242170</td>\n",
       "      <td>8.106</td>\n",
       "      <td>True</td>\n",
       "    </tr>\n",
       "    <tr>\n",
       "      <th>2</th>\n",
       "      <td>1</td>\n",
       "      <td>2010-02-19</td>\n",
       "      <td>39.93</td>\n",
       "      <td>2.514</td>\n",
       "      <td>NaN</td>\n",
       "      <td>NaN</td>\n",
       "      <td>NaN</td>\n",
       "      <td>NaN</td>\n",
       "      <td>NaN</td>\n",
       "      <td>211.289143</td>\n",
       "      <td>8.106</td>\n",
       "      <td>False</td>\n",
       "    </tr>\n",
       "    <tr>\n",
       "      <th>3</th>\n",
       "      <td>1</td>\n",
       "      <td>2010-02-26</td>\n",
       "      <td>46.63</td>\n",
       "      <td>2.561</td>\n",
       "      <td>NaN</td>\n",
       "      <td>NaN</td>\n",
       "      <td>NaN</td>\n",
       "      <td>NaN</td>\n",
       "      <td>NaN</td>\n",
       "      <td>211.319643</td>\n",
       "      <td>8.106</td>\n",
       "      <td>False</td>\n",
       "    </tr>\n",
       "    <tr>\n",
       "      <th>4</th>\n",
       "      <td>1</td>\n",
       "      <td>2010-03-05</td>\n",
       "      <td>46.50</td>\n",
       "      <td>2.625</td>\n",
       "      <td>NaN</td>\n",
       "      <td>NaN</td>\n",
       "      <td>NaN</td>\n",
       "      <td>NaN</td>\n",
       "      <td>NaN</td>\n",
       "      <td>211.350143</td>\n",
       "      <td>8.106</td>\n",
       "      <td>False</td>\n",
       "    </tr>\n",
       "  </tbody>\n",
       "</table>\n",
       "</div>"
      ],
      "text/plain": [
       "   Store        Date  Temperature  Fuel_Price  MarkDown1  MarkDown2  \\\n",
       "0      1  2010-02-05        42.31       2.572        NaN        NaN   \n",
       "1      1  2010-02-12        38.51       2.548        NaN        NaN   \n",
       "2      1  2010-02-19        39.93       2.514        NaN        NaN   \n",
       "3      1  2010-02-26        46.63       2.561        NaN        NaN   \n",
       "4      1  2010-03-05        46.50       2.625        NaN        NaN   \n",
       "\n",
       "   MarkDown3  MarkDown4  MarkDown5         CPI  Unemployment  IsHoliday  \n",
       "0        NaN        NaN        NaN  211.096358         8.106      False  \n",
       "1        NaN        NaN        NaN  211.242170         8.106       True  \n",
       "2        NaN        NaN        NaN  211.289143         8.106      False  \n",
       "3        NaN        NaN        NaN  211.319643         8.106      False  \n",
       "4        NaN        NaN        NaN  211.350143         8.106      False  "
      ]
     },
     "execution_count": 3,
     "metadata": {},
     "output_type": "execute_result"
    }
   ],
   "source": [
    "features = pd.read_csv('features.csv')\n",
    "stores = pd.read_csv('stores.csv')\n",
    "test = pd.read_csv('test.csv')\n",
    "train = pd.read_csv('train.csv')\n",
    "train = train.drop(columns=['IsHoliday'],axis = 1)\n",
    "features.head()"
   ]
  },
  {
   "cell_type": "code",
   "execution_count": 4,
   "metadata": {},
   "outputs": [
    {
     "name": "stdout",
     "output_type": "stream",
     "text": [
      "<class 'pandas.core.frame.DataFrame'>\n",
      "RangeIndex: 421570 entries, 0 to 421569\n",
      "Data columns (total 4 columns):\n",
      " #   Column        Non-Null Count   Dtype  \n",
      "---  ------        --------------   -----  \n",
      " 0   Store         421570 non-null  int64  \n",
      " 1   Dept          421570 non-null  int64  \n",
      " 2   Date          421570 non-null  object \n",
      " 3   Weekly_Sales  421570 non-null  float64\n",
      "dtypes: float64(1), int64(2), object(1)\n",
      "memory usage: 12.9+ MB\n"
     ]
    }
   ],
   "source": [
    "train.info()"
   ]
  },
  {
   "cell_type": "code",
   "execution_count": 5,
   "metadata": {},
   "outputs": [
    {
     "name": "stdout",
     "output_type": "stream",
     "text": [
      "<class 'pandas.core.frame.DataFrame'>\n",
      "RangeIndex: 8190 entries, 0 to 8189\n",
      "Data columns (total 12 columns):\n",
      " #   Column        Non-Null Count  Dtype  \n",
      "---  ------        --------------  -----  \n",
      " 0   Store         8190 non-null   int64  \n",
      " 1   Date          8190 non-null   object \n",
      " 2   Temperature   8190 non-null   float64\n",
      " 3   Fuel_Price    8190 non-null   float64\n",
      " 4   MarkDown1     4032 non-null   float64\n",
      " 5   MarkDown2     2921 non-null   float64\n",
      " 6   MarkDown3     3613 non-null   float64\n",
      " 7   MarkDown4     3464 non-null   float64\n",
      " 8   MarkDown5     4050 non-null   float64\n",
      " 9   CPI           7605 non-null   float64\n",
      " 10  Unemployment  7605 non-null   float64\n",
      " 11  IsHoliday     8190 non-null   bool   \n",
      "dtypes: bool(1), float64(9), int64(1), object(1)\n",
      "memory usage: 712.0+ KB\n"
     ]
    }
   ],
   "source": [
    "features.info()"
   ]
  },
  {
   "cell_type": "code",
   "execution_count": 6,
   "metadata": {},
   "outputs": [
    {
     "name": "stdout",
     "output_type": "stream",
     "text": [
      "<class 'pandas.core.frame.DataFrame'>\n",
      "RangeIndex: 45 entries, 0 to 44\n",
      "Data columns (total 3 columns):\n",
      " #   Column  Non-Null Count  Dtype \n",
      "---  ------  --------------  ----- \n",
      " 0   Store   45 non-null     int64 \n",
      " 1   Type    45 non-null     object\n",
      " 2   Size    45 non-null     int64 \n",
      "dtypes: int64(2), object(1)\n",
      "memory usage: 1.2+ KB\n"
     ]
    }
   ],
   "source": [
    "stores.info()"
   ]
  },
  {
   "cell_type": "code",
   "execution_count": 7,
   "metadata": {},
   "outputs": [],
   "source": [
    "store_features = stores.merge(features,on = 'Store',how = 'inner')\n",
    "store_data = train.merge(store_features,on = ['Store','Date'],how = 'right')"
   ]
  },
  {
   "cell_type": "code",
   "execution_count": 8,
   "metadata": {},
   "outputs": [
    {
     "data": {
      "text/plain": [
       "Index(['Store', 'Dept', 'Date', 'Weekly_Sales', 'Type', 'Size', 'Temperature',\n",
       "       'Fuel_Price', 'MarkDown1', 'MarkDown2', 'MarkDown3', 'MarkDown4',\n",
       "       'MarkDown5', 'CPI', 'Unemployment', 'IsHoliday'],\n",
       "      dtype='object')"
      ]
     },
     "execution_count": 8,
     "metadata": {},
     "output_type": "execute_result"
    }
   ],
   "source": [
    "store_data.columns\n",
    "dataset = store_data.drop(columns = ['MarkDown1', 'MarkDown2', 'MarkDown3', 'MarkDown4',\n",
    "       'MarkDown5','Unemployment'],axis = 1)"
   ]
  },
  {
   "cell_type": "code",
   "execution_count": 9,
   "metadata": {},
   "outputs": [
    {
     "data": {
      "text/html": [
       "<div>\n",
       "<style scoped>\n",
       "    .dataframe tbody tr th:only-of-type {\n",
       "        vertical-align: middle;\n",
       "    }\n",
       "\n",
       "    .dataframe tbody tr th {\n",
       "        vertical-align: top;\n",
       "    }\n",
       "\n",
       "    .dataframe thead th {\n",
       "        text-align: right;\n",
       "    }\n",
       "</style>\n",
       "<table border=\"1\" class=\"dataframe\">\n",
       "  <thead>\n",
       "    <tr style=\"text-align: right;\">\n",
       "      <th></th>\n",
       "      <th>Store</th>\n",
       "      <th>Dept</th>\n",
       "      <th>Weekly_Sales</th>\n",
       "      <th>Size</th>\n",
       "      <th>Temperature</th>\n",
       "      <th>Fuel_Price</th>\n",
       "      <th>CPI</th>\n",
       "      <th>IsHoliday</th>\n",
       "    </tr>\n",
       "  </thead>\n",
       "  <tbody>\n",
       "    <tr>\n",
       "      <th>Store</th>\n",
       "      <td>1.000000</td>\n",
       "      <td>0.024004</td>\n",
       "      <td>-0.085195</td>\n",
       "      <td>-0.183170</td>\n",
       "      <td>-0.050010</td>\n",
       "      <td>0.065511</td>\n",
       "      <td>-0.211049</td>\n",
       "      <td>-0.000539</td>\n",
       "    </tr>\n",
       "    <tr>\n",
       "      <th>Dept</th>\n",
       "      <td>0.024004</td>\n",
       "      <td>1.000000</td>\n",
       "      <td>0.148032</td>\n",
       "      <td>-0.002966</td>\n",
       "      <td>0.004437</td>\n",
       "      <td>0.003572</td>\n",
       "      <td>-0.007477</td>\n",
       "      <td>0.000916</td>\n",
       "    </tr>\n",
       "    <tr>\n",
       "      <th>Weekly_Sales</th>\n",
       "      <td>-0.085195</td>\n",
       "      <td>0.148032</td>\n",
       "      <td>1.000000</td>\n",
       "      <td>0.243828</td>\n",
       "      <td>-0.002312</td>\n",
       "      <td>-0.000120</td>\n",
       "      <td>-0.020921</td>\n",
       "      <td>0.012774</td>\n",
       "    </tr>\n",
       "    <tr>\n",
       "      <th>Size</th>\n",
       "      <td>-0.183170</td>\n",
       "      <td>-0.002966</td>\n",
       "      <td>0.243828</td>\n",
       "      <td>1.000000</td>\n",
       "      <td>-0.058354</td>\n",
       "      <td>0.003284</td>\n",
       "      <td>-0.003380</td>\n",
       "      <td>0.000579</td>\n",
       "    </tr>\n",
       "    <tr>\n",
       "      <th>Temperature</th>\n",
       "      <td>-0.050010</td>\n",
       "      <td>0.004437</td>\n",
       "      <td>-0.002312</td>\n",
       "      <td>-0.058354</td>\n",
       "      <td>1.000000</td>\n",
       "      <td>0.142966</td>\n",
       "      <td>0.181789</td>\n",
       "      <td>-0.156080</td>\n",
       "    </tr>\n",
       "    <tr>\n",
       "      <th>Fuel_Price</th>\n",
       "      <td>0.065511</td>\n",
       "      <td>0.003572</td>\n",
       "      <td>-0.000120</td>\n",
       "      <td>0.003284</td>\n",
       "      <td>0.142966</td>\n",
       "      <td>1.000000</td>\n",
       "      <td>-0.164460</td>\n",
       "      <td>-0.078261</td>\n",
       "    </tr>\n",
       "    <tr>\n",
       "      <th>CPI</th>\n",
       "      <td>-0.211049</td>\n",
       "      <td>-0.007477</td>\n",
       "      <td>-0.020921</td>\n",
       "      <td>-0.003380</td>\n",
       "      <td>0.181789</td>\n",
       "      <td>-0.164460</td>\n",
       "      <td>1.000000</td>\n",
       "      <td>-0.001869</td>\n",
       "    </tr>\n",
       "    <tr>\n",
       "      <th>IsHoliday</th>\n",
       "      <td>-0.000539</td>\n",
       "      <td>0.000916</td>\n",
       "      <td>0.012774</td>\n",
       "      <td>0.000579</td>\n",
       "      <td>-0.156080</td>\n",
       "      <td>-0.078261</td>\n",
       "      <td>-0.001869</td>\n",
       "      <td>1.000000</td>\n",
       "    </tr>\n",
       "  </tbody>\n",
       "</table>\n",
       "</div>"
      ],
      "text/plain": [
       "                 Store      Dept  Weekly_Sales      Size  Temperature  \\\n",
       "Store         1.000000  0.024004     -0.085195 -0.183170    -0.050010   \n",
       "Dept          0.024004  1.000000      0.148032 -0.002966     0.004437   \n",
       "Weekly_Sales -0.085195  0.148032      1.000000  0.243828    -0.002312   \n",
       "Size         -0.183170 -0.002966      0.243828  1.000000    -0.058354   \n",
       "Temperature  -0.050010  0.004437     -0.002312 -0.058354     1.000000   \n",
       "Fuel_Price    0.065511  0.003572     -0.000120  0.003284     0.142966   \n",
       "CPI          -0.211049 -0.007477     -0.020921 -0.003380     0.181789   \n",
       "IsHoliday    -0.000539  0.000916      0.012774  0.000579    -0.156080   \n",
       "\n",
       "              Fuel_Price       CPI  IsHoliday  \n",
       "Store           0.065511 -0.211049  -0.000539  \n",
       "Dept            0.003572 -0.007477   0.000916  \n",
       "Weekly_Sales   -0.000120 -0.020921   0.012774  \n",
       "Size            0.003284 -0.003380   0.000579  \n",
       "Temperature     0.142966  0.181789  -0.156080  \n",
       "Fuel_Price      1.000000 -0.164460  -0.078261  \n",
       "CPI            -0.164460  1.000000  -0.001869  \n",
       "IsHoliday      -0.078261 -0.001869   1.000000  "
      ]
     },
     "execution_count": 9,
     "metadata": {},
     "output_type": "execute_result"
    }
   ],
   "source": [
    "dataset.corr()"
   ]
  },
  {
   "cell_type": "code",
   "execution_count": 17,
   "metadata": {},
   "outputs": [
    {
     "data": {
      "text/html": [
       "<div>\n",
       "<style scoped>\n",
       "    .dataframe tbody tr th:only-of-type {\n",
       "        vertical-align: middle;\n",
       "    }\n",
       "\n",
       "    .dataframe tbody tr th {\n",
       "        vertical-align: top;\n",
       "    }\n",
       "\n",
       "    .dataframe thead th {\n",
       "        text-align: right;\n",
       "    }\n",
       "</style>\n",
       "<table border=\"1\" class=\"dataframe\">\n",
       "  <thead>\n",
       "    <tr style=\"text-align: right;\">\n",
       "      <th></th>\n",
       "      <th>Store</th>\n",
       "      <th>Dept</th>\n",
       "      <th>Date</th>\n",
       "      <th>Weekly_Sales</th>\n",
       "      <th>Type</th>\n",
       "      <th>Size</th>\n",
       "      <th>Temperature</th>\n",
       "      <th>Fuel_Price</th>\n",
       "      <th>CPI</th>\n",
       "      <th>IsHoliday</th>\n",
       "    </tr>\n",
       "  </thead>\n",
       "  <tbody>\n",
       "    <tr>\n",
       "      <th>0</th>\n",
       "      <td>1</td>\n",
       "      <td>1.0</td>\n",
       "      <td>2010-02-05</td>\n",
       "      <td>24924.50</td>\n",
       "      <td>A</td>\n",
       "      <td>151315</td>\n",
       "      <td>42.31</td>\n",
       "      <td>2.572</td>\n",
       "      <td>211.096358</td>\n",
       "      <td>False</td>\n",
       "    </tr>\n",
       "    <tr>\n",
       "      <th>1</th>\n",
       "      <td>1</td>\n",
       "      <td>2.0</td>\n",
       "      <td>2010-02-05</td>\n",
       "      <td>50605.27</td>\n",
       "      <td>A</td>\n",
       "      <td>151315</td>\n",
       "      <td>42.31</td>\n",
       "      <td>2.572</td>\n",
       "      <td>211.096358</td>\n",
       "      <td>False</td>\n",
       "    </tr>\n",
       "    <tr>\n",
       "      <th>2</th>\n",
       "      <td>1</td>\n",
       "      <td>3.0</td>\n",
       "      <td>2010-02-05</td>\n",
       "      <td>13740.12</td>\n",
       "      <td>A</td>\n",
       "      <td>151315</td>\n",
       "      <td>42.31</td>\n",
       "      <td>2.572</td>\n",
       "      <td>211.096358</td>\n",
       "      <td>False</td>\n",
       "    </tr>\n",
       "    <tr>\n",
       "      <th>3</th>\n",
       "      <td>1</td>\n",
       "      <td>4.0</td>\n",
       "      <td>2010-02-05</td>\n",
       "      <td>39954.04</td>\n",
       "      <td>A</td>\n",
       "      <td>151315</td>\n",
       "      <td>42.31</td>\n",
       "      <td>2.572</td>\n",
       "      <td>211.096358</td>\n",
       "      <td>False</td>\n",
       "    </tr>\n",
       "    <tr>\n",
       "      <th>4</th>\n",
       "      <td>1</td>\n",
       "      <td>5.0</td>\n",
       "      <td>2010-02-05</td>\n",
       "      <td>32229.38</td>\n",
       "      <td>A</td>\n",
       "      <td>151315</td>\n",
       "      <td>42.31</td>\n",
       "      <td>2.572</td>\n",
       "      <td>211.096358</td>\n",
       "      <td>False</td>\n",
       "    </tr>\n",
       "  </tbody>\n",
       "</table>\n",
       "</div>"
      ],
      "text/plain": [
       "   Store  Dept        Date  Weekly_Sales Type    Size  Temperature  \\\n",
       "0      1   1.0  2010-02-05      24924.50    A  151315        42.31   \n",
       "1      1   2.0  2010-02-05      50605.27    A  151315        42.31   \n",
       "2      1   3.0  2010-02-05      13740.12    A  151315        42.31   \n",
       "3      1   4.0  2010-02-05      39954.04    A  151315        42.31   \n",
       "4      1   5.0  2010-02-05      32229.38    A  151315        42.31   \n",
       "\n",
       "   Fuel_Price         CPI  IsHoliday  \n",
       "0       2.572  211.096358      False  \n",
       "1       2.572  211.096358      False  \n",
       "2       2.572  211.096358      False  \n",
       "3       2.572  211.096358      False  \n",
       "4       2.572  211.096358      False  "
      ]
     },
     "execution_count": 17,
     "metadata": {},
     "output_type": "execute_result"
    }
   ],
   "source": [
    "dataset.head()"
   ]
  },
  {
   "cell_type": "code",
   "execution_count": 18,
   "metadata": {},
   "outputs": [
    {
     "data": {
      "text/html": [
       "<div>\n",
       "<style scoped>\n",
       "    .dataframe tbody tr th:only-of-type {\n",
       "        vertical-align: middle;\n",
       "    }\n",
       "\n",
       "    .dataframe tbody tr th {\n",
       "        vertical-align: top;\n",
       "    }\n",
       "\n",
       "    .dataframe thead th {\n",
       "        text-align: right;\n",
       "    }\n",
       "</style>\n",
       "<table border=\"1\" class=\"dataframe\">\n",
       "  <thead>\n",
       "    <tr style=\"text-align: right;\">\n",
       "      <th></th>\n",
       "      <th>Store</th>\n",
       "      <th>Dept</th>\n",
       "      <th>Date</th>\n",
       "      <th>Weekly_Sales</th>\n",
       "    </tr>\n",
       "  </thead>\n",
       "  <tbody>\n",
       "    <tr>\n",
       "      <th>0</th>\n",
       "      <td>1</td>\n",
       "      <td>1</td>\n",
       "      <td>2010-02-05</td>\n",
       "      <td>24924.50</td>\n",
       "    </tr>\n",
       "    <tr>\n",
       "      <th>1</th>\n",
       "      <td>1</td>\n",
       "      <td>1</td>\n",
       "      <td>2010-02-12</td>\n",
       "      <td>46039.49</td>\n",
       "    </tr>\n",
       "    <tr>\n",
       "      <th>2</th>\n",
       "      <td>1</td>\n",
       "      <td>1</td>\n",
       "      <td>2010-02-19</td>\n",
       "      <td>41595.55</td>\n",
       "    </tr>\n",
       "    <tr>\n",
       "      <th>3</th>\n",
       "      <td>1</td>\n",
       "      <td>1</td>\n",
       "      <td>2010-02-26</td>\n",
       "      <td>19403.54</td>\n",
       "    </tr>\n",
       "    <tr>\n",
       "      <th>4</th>\n",
       "      <td>1</td>\n",
       "      <td>1</td>\n",
       "      <td>2010-03-05</td>\n",
       "      <td>21827.90</td>\n",
       "    </tr>\n",
       "  </tbody>\n",
       "</table>\n",
       "</div>"
      ],
      "text/plain": [
       "   Store  Dept        Date  Weekly_Sales\n",
       "0      1     1  2010-02-05      24924.50\n",
       "1      1     1  2010-02-12      46039.49\n",
       "2      1     1  2010-02-19      41595.55\n",
       "3      1     1  2010-02-26      19403.54\n",
       "4      1     1  2010-03-05      21827.90"
      ]
     },
     "execution_count": 18,
     "metadata": {},
     "output_type": "execute_result"
    }
   ],
   "source": [
    "train.head()"
   ]
  },
  {
   "cell_type": "code",
   "execution_count": 4,
   "metadata": {},
   "outputs": [
    {
     "name": "stdout",
     "output_type": "stream",
     "text": [
      "(421570, 17)\n"
     ]
    }
   ],
   "source": [
    "data = train.merge(features, on=['Store', 'Date'], how='inner').merge(stores, on=['Store'], how='inner')\n",
    "print(data.shape)"
   ]
  },
  {
   "cell_type": "code",
   "execution_count": 5,
   "metadata": {},
   "outputs": [
    {
     "data": {
      "text/plain": [
       "([<matplotlib.patches.Wedge at 0x1ba06759e88>,\n",
       "  <matplotlib.patches.Wedge at 0x1ba067667c8>,\n",
       "  <matplotlib.patches.Wedge at 0x1ba06770188>],\n",
       " [Text(0.5335036046651801, 1.4594151908712094, 'A store'),\n",
       "  Text(0.07916348006504959, -0.36284217762522486, 'B store'),\n",
       "  Text(1.377003502852988, 0.10953251609949749, 'C store')],\n",
       " [Text(0.51675180233259, 0.9797075954356047, '48.9%'),\n",
       "  Text(0.2895817400325248, 0.06857891118738757, '37.8%'),\n",
       "  Text(0.938501751426494, 0.3047662580497488, '13.3%')])"
      ]
     },
     "execution_count": 5,
     "metadata": {},
     "output_type": "execute_result"
    },
    {
     "data": {
      "image/png": "[encoded data removed]",
      "text/plain": [
       "<Figure size 720x720 with 1 Axes>"
      ]
     },
     "metadata": {},
     "output_type": "display_data"
    }
   ],
   "source": [
    "sorted_type = stores.groupby('Type')\n",
    "plt.style.use('ggplot')\n",
    "labels=['A store','B store','C store']\n",
    "sizes=sorted_type.describe()['Size'].round(1)\n",
    "sizes=[(22/(17+6+22))*100,(17/(17+6+22))*100,(6/(17+6+22))*100] # convert to the proportion\n",
    "fig, axes = plt.subplots(1,1, figsize=(10,10))\n",
    "wprops={'edgecolor':'black',\n",
    "      'linewidth':2}\n",
    "tprops = {'fontsize':30}\n",
    "axes.pie(sizes,\n",
    "        labels=labels,\n",
    "        explode=(0.0,0,0),\n",
    "        autopct='%1.1f%%',\n",
    "        pctdistance=0.6,\n",
    "        labeldistance=1.2,\n",
    "        wedgeprops=wprops,\n",
    "        textprops=tprops,\n",
    "        radius=0.8,\n",
    "        center=(0.5,0.5))\n",
    "plt.show()"
   ]
  },
  {
   "cell_type": "code",
   "execution_count": null,
   "metadata": {},
   "outputs": [],
   "source": []
  },
  {
   "cell_type": "code",
   "execution_count": 6,
   "metadata": {},
   "outputs": [
    {
     "data": {
      "text/plain": [
       "Store           0\n",
       "Dept            0\n",
       "Date            0\n",
       "Weekly_Sales    0\n",
       "IsHoliday_x     0\n",
       "Temperature     0\n",
       "Fuel_Price      0\n",
       "MarkDown1       0\n",
       "MarkDown2       0\n",
       "MarkDown3       0\n",
       "MarkDown4       0\n",
       "MarkDown5       0\n",
       "CPI             0\n",
       "Unemployment    0\n",
       "IsHoliday_y     0\n",
       "Type            0\n",
       "Size            0\n",
       "dtype: int64"
      ]
     },
     "execution_count": 6,
     "metadata": {},
     "output_type": "execute_result"
    },
    {
     "data": {
      "text/html": [
       "<div>\n",
       "<style scoped>\n",
       "    .dataframe tbody tr th:only-of-type {\n",
       "        vertical-align: middle;\n",
       "    }\n",
       "\n",
       "    .dataframe tbody tr th {\n",
       "        vertical-align: top;\n",
       "    }\n",
       "\n",
       "    .dataframe thead th {\n",
       "        text-align: right;\n",
       "    }\n",
       "</style>\n",
       "<table border=\"1\" class=\"dataframe\">\n",
       "  <thead>\n",
       "    <tr style=\"text-align: right;\">\n",
       "      <th></th>\n",
       "      <th>Store</th>\n",
       "      <th>Dept</th>\n",
       "      <th>Weekly_Sales</th>\n",
       "      <th>Temperature</th>\n",
       "      <th>Fuel_Price</th>\n",
       "      <th>MarkDown1</th>\n",
       "      <th>MarkDown2</th>\n",
       "      <th>MarkDown3</th>\n",
       "      <th>MarkDown4</th>\n",
       "      <th>MarkDown5</th>\n",
       "      <th>CPI</th>\n",
       "      <th>Unemployment</th>\n",
       "      <th>Size</th>\n",
       "    </tr>\n",
       "  </thead>\n",
       "  <tbody>\n",
       "    <tr>\n",
       "      <th>count</th>\n",
       "      <td>421570.000000</td>\n",
       "      <td>421570.000000</td>\n",
       "      <td>421570.000000</td>\n",
       "      <td>421570.000000</td>\n",
       "      <td>421570.000000</td>\n",
       "      <td>421570.000000</td>\n",
       "      <td>421570.000000</td>\n",
       "      <td>421570.000000</td>\n",
       "      <td>421570.000000</td>\n",
       "      <td>421570.000000</td>\n",
       "      <td>421570.000000</td>\n",
       "      <td>421570.000000</td>\n",
       "      <td>421570.000000</td>\n",
       "    </tr>\n",
       "    <tr>\n",
       "      <th>mean</th>\n",
       "      <td>22.200546</td>\n",
       "      <td>44.260317</td>\n",
       "      <td>15981.258123</td>\n",
       "      <td>60.090059</td>\n",
       "      <td>3.361027</td>\n",
       "      <td>2590.074819</td>\n",
       "      <td>879.974298</td>\n",
       "      <td>468.087665</td>\n",
       "      <td>1083.132268</td>\n",
       "      <td>1662.772385</td>\n",
       "      <td>171.201947</td>\n",
       "      <td>7.960289</td>\n",
       "      <td>136727.915739</td>\n",
       "    </tr>\n",
       "    <tr>\n",
       "      <th>std</th>\n",
       "      <td>12.785297</td>\n",
       "      <td>30.492054</td>\n",
       "      <td>22711.183519</td>\n",
       "      <td>18.447931</td>\n",
       "      <td>0.458515</td>\n",
       "      <td>6052.385934</td>\n",
       "      <td>5084.538801</td>\n",
       "      <td>5528.873453</td>\n",
       "      <td>3894.529945</td>\n",
       "      <td>4207.629321</td>\n",
       "      <td>39.159276</td>\n",
       "      <td>1.863296</td>\n",
       "      <td>60980.583328</td>\n",
       "    </tr>\n",
       "    <tr>\n",
       "      <th>min</th>\n",
       "      <td>1.000000</td>\n",
       "      <td>1.000000</td>\n",
       "      <td>-4988.940000</td>\n",
       "      <td>-2.060000</td>\n",
       "      <td>2.472000</td>\n",
       "      <td>0.000000</td>\n",
       "      <td>-265.760000</td>\n",
       "      <td>-29.100000</td>\n",
       "      <td>0.000000</td>\n",
       "      <td>0.000000</td>\n",
       "      <td>126.064000</td>\n",
       "      <td>3.879000</td>\n",
       "      <td>34875.000000</td>\n",
       "    </tr>\n",
       "    <tr>\n",
       "      <th>25%</th>\n",
       "      <td>11.000000</td>\n",
       "      <td>18.000000</td>\n",
       "      <td>2079.650000</td>\n",
       "      <td>46.680000</td>\n",
       "      <td>2.933000</td>\n",
       "      <td>0.000000</td>\n",
       "      <td>0.000000</td>\n",
       "      <td>0.000000</td>\n",
       "      <td>0.000000</td>\n",
       "      <td>0.000000</td>\n",
       "      <td>132.022667</td>\n",
       "      <td>6.891000</td>\n",
       "      <td>93638.000000</td>\n",
       "    </tr>\n",
       "    <tr>\n",
       "      <th>50%</th>\n",
       "      <td>22.000000</td>\n",
       "      <td>37.000000</td>\n",
       "      <td>7612.030000</td>\n",
       "      <td>62.090000</td>\n",
       "      <td>3.452000</td>\n",
       "      <td>0.000000</td>\n",
       "      <td>0.000000</td>\n",
       "      <td>0.000000</td>\n",
       "      <td>0.000000</td>\n",
       "      <td>0.000000</td>\n",
       "      <td>182.318780</td>\n",
       "      <td>7.866000</td>\n",
       "      <td>140167.000000</td>\n",
       "    </tr>\n",
       "    <tr>\n",
       "      <th>75%</th>\n",
       "      <td>33.000000</td>\n",
       "      <td>74.000000</td>\n",
       "      <td>20205.852500</td>\n",
       "      <td>74.280000</td>\n",
       "      <td>3.738000</td>\n",
       "      <td>2809.050000</td>\n",
       "      <td>2.200000</td>\n",
       "      <td>4.540000</td>\n",
       "      <td>425.290000</td>\n",
       "      <td>2168.040000</td>\n",
       "      <td>212.416993</td>\n",
       "      <td>8.572000</td>\n",
       "      <td>202505.000000</td>\n",
       "    </tr>\n",
       "    <tr>\n",
       "      <th>max</th>\n",
       "      <td>45.000000</td>\n",
       "      <td>99.000000</td>\n",
       "      <td>693099.360000</td>\n",
       "      <td>100.140000</td>\n",
       "      <td>4.468000</td>\n",
       "      <td>88646.760000</td>\n",
       "      <td>104519.540000</td>\n",
       "      <td>141630.610000</td>\n",
       "      <td>67474.850000</td>\n",
       "      <td>108519.280000</td>\n",
       "      <td>227.232807</td>\n",
       "      <td>14.313000</td>\n",
       "      <td>219622.000000</td>\n",
       "    </tr>\n",
       "  </tbody>\n",
       "</table>\n",
       "</div>"
      ],
      "text/plain": [
       "               Store           Dept   Weekly_Sales    Temperature  \\\n",
       "count  421570.000000  421570.000000  421570.000000  421570.000000   \n",
       "mean       22.200546      44.260317   15981.258123      60.090059   \n",
       "std        12.785297      30.492054   22711.183519      18.447931   \n",
       "min         1.000000       1.000000   -4988.940000      -2.060000   \n",
       "25%        11.000000      18.000000    2079.650000      46.680000   \n",
       "50%        22.000000      37.000000    7612.030000      62.090000   \n",
       "75%        33.000000      74.000000   20205.852500      74.280000   \n",
       "max        45.000000      99.000000  693099.360000     100.140000   \n",
       "\n",
       "          Fuel_Price      MarkDown1      MarkDown2      MarkDown3  \\\n",
       "count  421570.000000  421570.000000  421570.000000  421570.000000   \n",
       "mean        3.361027    2590.074819     879.974298     468.087665   \n",
       "std         0.458515    6052.385934    5084.538801    5528.873453   \n",
       "min         2.472000       0.000000    -265.760000     -29.100000   \n",
       "25%         2.933000       0.000000       0.000000       0.000000   \n",
       "50%         3.452000       0.000000       0.000000       0.000000   \n",
       "75%         3.738000    2809.050000       2.200000       4.540000   \n",
       "max         4.468000   88646.760000  104519.540000  141630.610000   \n",
       "\n",
       "           MarkDown4      MarkDown5            CPI   Unemployment  \\\n",
       "count  421570.000000  421570.000000  421570.000000  421570.000000   \n",
       "mean     1083.132268    1662.772385     171.201947       7.960289   \n",
       "std      3894.529945    4207.629321      39.159276       1.863296   \n",
       "min         0.000000       0.000000     126.064000       3.879000   \n",
       "25%         0.000000       0.000000     132.022667       6.891000   \n",
       "50%         0.000000       0.000000     182.318780       7.866000   \n",
       "75%       425.290000    2168.040000     212.416993       8.572000   \n",
       "max     67474.850000  108519.280000     227.232807      14.313000   \n",
       "\n",
       "                Size  \n",
       "count  421570.000000  \n",
       "mean   136727.915739  \n",
       "std     60980.583328  \n",
       "min     34875.000000  \n",
       "25%     93638.000000  \n",
       "50%    140167.000000  \n",
       "75%    202505.000000  \n",
       "max    219622.000000  "
      ]
     },
     "execution_count": 6,
     "metadata": {},
     "output_type": "execute_result"
    }
   ],
   "source": [
    "data=data.fillna(0)\n",
    "data.isna().sum()\n",
    "data.describe()"
   ]
  },
  {
   "cell_type": "code",
   "execution_count": 7,
   "metadata": {},
   "outputs": [],
   "source": [
    "data = data[data['Weekly_Sales'] >= 0]"
   ]
  },
  {
   "cell_type": "code",
   "execution_count": 8,
   "metadata": {},
   "outputs": [
    {
     "data": {
      "text/plain": [
       "<matplotlib.axes._subplots.AxesSubplot at 0x1ba0678c848>"
      ]
     },
     "execution_count": 8,
     "metadata": {},
     "output_type": "execute_result"
    },
    {
     "data": {
      "text/plain": [
       "<matplotlib.axes._subplots.AxesSubplot at 0x1ba0678c848>"
      ]
     },
     "execution_count": 8,
     "metadata": {},
     "output_type": "execute_result"
    },
    {
     "data": {
      "image/png": "[encoded data removed]",
      "text/plain": [
       "<Figure size 1440x576 with 1 Axes>"
      ]
     },
     "metadata": {},
     "output_type": "display_data"
    }
   ],
   "source": [
    "data.Date = pd.to_datetime(data.Date,format='%Y-%m-%d')\n",
    "data.index = data.Date\n",
    "data = data.drop('Date', axis=1)\n",
    "data = data.resample('MS').mean() # Resmapling the time series data with month starting first.\n",
    "# Train-Test splitting of time series data\n",
    "train_data = data[:int(0.7*(len(data)))]\n",
    "test_data = data[int(0.7*(len(data))):]\n",
    "# ARIMA takes univariate data.\n",
    "train_data = train_data['Weekly_Sales']\n",
    "test_data = test_data['Weekly_Sales']\n",
    "# Plot of Weekly_Sales with respect to years in train and test.\n",
    "train_data.plot(figsize=(20,8), title= 'Weekly_Sales', fontsize=14)\n",
    "test_data.plot(figsize=(20,8), title= 'Weekly_Sales', fontsize=14)\n",
    "plt.show()"
   ]
  },
  {
   "cell_type": "code",
   "execution_count": 9,
   "metadata": {},
   "outputs": [
    {
     "name": "stdout",
     "output_type": "stream",
     "text": [
      "ADF Statistic: -4.173916935101503\n",
      "p-value: 0.0007291844915317363\n",
      "Critical Values:\n",
      "\t1%: -3.769732625845229\n",
      "\t5%: -3.005425537190083\n",
      "\t10%: -2.6425009917355373\n"
     ]
    }
   ],
   "source": [
    "from statsmodels.tsa.stattools import adfuller\n",
    "result = adfuller(data['Weekly_Sales'])\n",
    "print('ADF Statistic: {}'.format(result[0]))\n",
    "print('p-value: {}'.format(result[1]))\n",
    "print('Critical Values:')\n",
    "for key, value in result[4].items():\n",
    "    print('\\t{}: {}'.format(key, value))"
   ]
  },
  {
   "cell_type": "code",
   "execution_count": 10,
   "metadata": {},
   "outputs": [
    {
     "name": "stderr",
     "output_type": "stream",
     "text": [
      "C:\\Users\\Rajat\\Anaconda3\\lib\\site-packages\\sklearn\\externals\\six.py:31: DeprecationWarning: The module is deprecated in version 0.21 and will be removed in version 0.23 since we've dropped support for Python 2.7. Please rely on the official version of six (https://pypi.org/project/six/).\n",
      "  \"(https://pypi.org/project/six/).\", DeprecationWarning)\n",
      "C:\\Users\\Rajat\\Anaconda3\\lib\\site-packages\\sklearn\\externals\\joblib\\__init__.py:15: DeprecationWarning: sklearn.externals.joblib is deprecated in 0.21 and will be removed in 0.23. Please import this functionality directly from joblib, which can be installed with: pip install joblib. If this warning is raised when loading pickled models, you may need to re-serialize those models with scikit-learn 0.21+.\n",
      "  warnings.warn(msg, category=DeprecationWarning)\n"
     ]
    },
    {
     "name": "stdout",
     "output_type": "stream",
     "text": [
      "Fit ARIMA: order=(2, 0, 2) seasonal_order=(0, 0, 0, 1); AIC=405.580, BIC=412.393, Fit time=0.119 seconds\n",
      "Fit ARIMA: order=(0, 0, 0) seasonal_order=(0, 0, 0, 1); AIC=398.029, BIC=400.300, Fit time=0.004 seconds\n",
      "Fit ARIMA: order=(1, 0, 0) seasonal_order=(0, 0, 0, 1); AIC=399.847, BIC=403.254, Fit time=0.011 seconds\n",
      "Fit ARIMA: order=(0, 0, 1) seasonal_order=(0, 0, 0, 1); AIC=399.604, BIC=403.011, Fit time=0.027 seconds\n",
      "Fit ARIMA: order=(1, 0, 1) seasonal_order=(0, 0, 0, 1); AIC=401.739, BIC=406.281, Fit time=0.014 seconds\n",
      "Total fit time: 0.185 seconds\n",
      "Fit ARIMA: order=(0, 0, 0) seasonal_order=(0, 0, 0, 1); AIC=398.029, BIC=400.300, Fit time=0.004 seconds\n",
      "Fit ARIMA: order=(0, 0, 1) seasonal_order=(0, 0, 0, 1); AIC=399.604, BIC=403.011, Fit time=0.024 seconds\n",
      "Fit ARIMA: order=(0, 0, 2) seasonal_order=(0, 0, 0, 1); AIC=397.039, BIC=401.581, Fit time=0.093 seconds\n",
      "Fit ARIMA: order=(0, 0, 3) seasonal_order=(0, 0, 0, 1); AIC=397.780, BIC=403.457, Fit time=0.098 seconds\n",
      "Fit ARIMA: order=(0, 0, 4) seasonal_order=(0, 0, 0, 1); AIC=399.332, BIC=406.145, Fit time=0.101 seconds\n",
      "Fit ARIMA: order=(0, 0, 5) seasonal_order=(0, 0, 0, 1); AIC=425.771, BIC=433.720, Fit time=0.129 seconds\n",
      "Fit ARIMA: order=(0, 0, 6) seasonal_order=(0, 0, 0, 1); AIC=nan, BIC=nan, Fit time=0.061 seconds\n",
      "Fit ARIMA: order=(0, 0, 7) seasonal_order=(0, 0, 0, 1); AIC=nan, BIC=nan, Fit time=0.067 seconds\n",
      "Fit ARIMA: order=(1, 0, 0) seasonal_order=(0, 0, 0, 1); AIC=399.847, BIC=403.254, Fit time=0.013 seconds\n",
      "Fit ARIMA: order=(1, 0, 1) seasonal_order=(0, 0, 0, 1); AIC=401.739, BIC=406.281, Fit time=0.017 seconds\n",
      "Fit ARIMA: order=(1, 0, 2) seasonal_order=(0, 0, 0, 1); AIC=404.410, BIC=410.088, Fit time=0.027 seconds\n",
      "Fit ARIMA: order=(1, 0, 3) seasonal_order=(0, 0, 0, 1); AIC=400.484, BIC=407.297, Fit time=0.070 seconds\n",
      "Fit ARIMA: order=(1, 0, 4) seasonal_order=(0, 0, 0, 1); AIC=399.908, BIC=407.857, Fit time=0.214 seconds\n",
      "Fit ARIMA: order=(1, 0, 5) seasonal_order=(0, 0, 0, 1); AIC=453.529, BIC=462.613, Fit time=0.182 seconds\n",
      "Fit ARIMA: order=(1, 0, 6) seasonal_order=(0, 0, 0, 1); AIC=nan, BIC=nan, Fit time=nan seconds\n",
      "Fit ARIMA: order=(1, 0, 7) seasonal_order=(0, 0, 0, 1); AIC=nan, BIC=nan, Fit time=nan seconds\n",
      "Fit ARIMA: order=(2, 0, 0) seasonal_order=(0, 0, 0, 1); AIC=399.812, BIC=404.354, Fit time=0.046 seconds\n",
      "Fit ARIMA: order=(2, 0, 1) seasonal_order=(0, 0, 0, 1); AIC=403.489, BIC=409.166, Fit time=0.104 seconds\n",
      "Fit ARIMA: order=(2, 0, 2) seasonal_order=(0, 0, 0, 1); AIC=405.580, BIC=412.393, Fit time=0.049 seconds\n",
      "Fit ARIMA: order=(2, 0, 3) seasonal_order=(0, 0, 0, 1); AIC=402.551, BIC=410.500, Fit time=0.139 seconds\n",
      "Fit ARIMA: order=(2, 0, 4) seasonal_order=(0, 0, 0, 1); AIC=402.280, BIC=411.364, Fit time=0.157 seconds\n",
      "Fit ARIMA: order=(2, 0, 5) seasonal_order=(0, 0, 0, 1); AIC=72730.393, BIC=72740.612, Fit time=0.179 seconds\n",
      "Fit ARIMA: order=(2, 0, 6) seasonal_order=(0, 0, 0, 1); AIC=nan, BIC=nan, Fit time=nan seconds\n",
      "Fit ARIMA: order=(2, 0, 7) seasonal_order=(0, 0, 0, 1); AIC=nan, BIC=nan, Fit time=nan seconds\n",
      "Fit ARIMA: order=(3, 0, 0) seasonal_order=(0, 0, 0, 1); AIC=401.000, BIC=406.678, Fit time=0.059 seconds\n",
      "Fit ARIMA: order=(3, 0, 1) seasonal_order=(0, 0, 0, 1); AIC=403.156, BIC=409.969, Fit time=0.091 seconds\n",
      "Fit ARIMA: order=(3, 0, 2) seasonal_order=(0, 0, 0, 1); AIC=405.230, BIC=413.179, Fit time=0.134 seconds\n",
      "Fit ARIMA: order=(3, 0, 3) seasonal_order=(0, 0, 0, 1); AIC=406.105, BIC=415.189, Fit time=0.157 seconds\n",
      "Fit ARIMA: order=(3, 0, 4) seasonal_order=(0, 0, 0, 1); AIC=407.573, BIC=417.792, Fit time=0.186 seconds\n",
      "Fit ARIMA: order=(3, 0, 5) seasonal_order=(0, 0, 0, 1); AIC=27170.702, BIC=27182.057, Fit time=0.206 seconds\n",
      "Fit ARIMA: order=(3, 0, 6) seasonal_order=(0, 0, 0, 1); AIC=nan, BIC=nan, Fit time=nan seconds\n",
      "Fit ARIMA: order=(3, 0, 7) seasonal_order=(0, 0, 0, 1); AIC=nan, BIC=nan, Fit time=nan seconds\n",
      "Fit ARIMA: order=(4, 0, 0) seasonal_order=(0, 0, 0, 1); AIC=402.909, BIC=409.722, Fit time=0.077 seconds\n",
      "Fit ARIMA: order=(4, 0, 1) seasonal_order=(0, 0, 0, 1); AIC=405.118, BIC=413.066, Fit time=0.111 seconds\n",
      "Fit ARIMA: order=(4, 0, 2) seasonal_order=(0, 0, 0, 1); AIC=407.665, BIC=416.749, Fit time=0.140 seconds\n",
      "Fit ARIMA: order=(4, 0, 3) seasonal_order=(0, 0, 0, 1); AIC=406.814, BIC=417.033, Fit time=0.174 seconds\n",
      "Fit ARIMA: order=(4, 0, 4) seasonal_order=(0, 0, 0, 1); AIC=460.051, BIC=471.406, Fit time=0.188 seconds\n",
      "Fit ARIMA: order=(4, 0, 5) seasonal_order=(0, 0, 0, 1); AIC=60124.547, BIC=60137.038, Fit time=0.224 seconds\n",
      "Fit ARIMA: order=(4, 0, 6) seasonal_order=(0, 0, 0, 1); AIC=nan, BIC=nan, Fit time=nan seconds\n",
      "Fit ARIMA: order=(5, 0, 0) seasonal_order=(0, 0, 0, 1); AIC=404.374, BIC=412.322, Fit time=0.093 seconds\n",
      "Fit ARIMA: order=(5, 0, 1) seasonal_order=(0, 0, 0, 1); AIC=406.323, BIC=415.407, Fit time=0.148 seconds\n",
      "Fit ARIMA: order=(5, 0, 2) seasonal_order=(0, 0, 0, 1); AIC=408.601, BIC=418.820, Fit time=0.193 seconds\n",
      "Fit ARIMA: order=(5, 0, 3) seasonal_order=(0, 0, 0, 1); AIC=409.372, BIC=420.727, Fit time=0.164 seconds\n",
      "Fit ARIMA: order=(5, 0, 4) seasonal_order=(0, 0, 0, 1); AIC=472.451, BIC=484.942, Fit time=0.191 seconds\n",
      "Fit ARIMA: order=(5, 0, 5) seasonal_order=(0, 0, 0, 1); AIC=51436.053, BIC=51449.678, Fit time=0.274 seconds\n",
      "Fit ARIMA: order=(6, 0, 0) seasonal_order=(0, 0, 0, 1); AIC=406.378, BIC=415.462, Fit time=0.095 seconds\n",
      "Fit ARIMA: order=(6, 0, 1) seasonal_order=(0, 0, 0, 1); AIC=408.545, BIC=418.765, Fit time=0.168 seconds\n",
      "Fit ARIMA: order=(6, 0, 2) seasonal_order=(0, 0, 0, 1); AIC=410.685, BIC=422.040, Fit time=0.189 seconds\n",
      "Fit ARIMA: order=(6, 0, 3) seasonal_order=(0, 0, 0, 1); AIC=411.380, BIC=423.871, Fit time=0.203 seconds\n",
      "Fit ARIMA: order=(6, 0, 4) seasonal_order=(0, 0, 0, 1); AIC=1197271.057, BIC=1197284.683, Fit time=0.272 seconds\n",
      "Fit ARIMA: order=(7, 0, 0) seasonal_order=(0, 0, 0, 1); AIC=408.098, BIC=418.318, Fit time=0.145 seconds\n",
      "Fit ARIMA: order=(7, 0, 1) seasonal_order=(0, 0, 0, 1); AIC=410.313, BIC=421.668, Fit time=0.226 seconds\n",
      "Fit ARIMA: order=(7, 0, 2) seasonal_order=(0, 0, 0, 1); AIC=412.413, BIC=424.903, Fit time=0.239 seconds\n",
      "Fit ARIMA: order=(7, 0, 3) seasonal_order=(0, 0, 0, 1); AIC=413.017, BIC=426.643, Fit time=0.218 seconds\n",
      "Total fit time: 7.642 seconds\n"
     ]
    },
    {
     "data": {
      "text/plain": [
       "ARIMA(callback=None, disp=0, maxiter=None, method=None, order=(0, 0, 2),\n",
       "      out_of_sample_size=0, scoring='mse', scoring_args={},\n",
       "      seasonal_order=(0, 0, 0, 1), solver='lbfgs', start_params=None,\n",
       "      suppress_warnings=True, transparams=True, trend=None,\n",
       "      with_intercept=True)"
      ]
     },
     "execution_count": 10,
     "metadata": {},
     "output_type": "execute_result"
    }
   ],
   "source": [
    "# Applying auto_arima model on train data.\n",
    "from pmdarima.arima import auto_arima\n",
    "model_auto_arima = auto_arima(train_data, trace=True, error_action='ignore', suppress_warnings=True)\n",
    "model_auto_arima = auto_arima(train_data, trace=True,start_p=0, start_q=0, start_P=0, start_Q=0, max_p=10, max_q=10, max_P=10, max_Q=10, seasonal=True,stepwise=False, suppress_warnings=True, D=1, max_D=10,error_action='ignore',approximation = False)\n",
    "model_auto_arima.fit(train_data)"
   ]
  },
  {
   "cell_type": "code",
   "execution_count": 16,
   "metadata": {},
   "outputs": [
    {
     "data": {
      "text/plain": [
       "<Figure size 720x432 with 0 Axes>"
      ]
     },
     "execution_count": 16,
     "metadata": {},
     "output_type": "execute_result"
    },
    {
     "data": {
      "text/plain": [
       "Text(0.5, 1.0, 'Prediction of Weekly Sales using Auto ARIMA model')"
      ]
     },
     "execution_count": 16,
     "metadata": {},
     "output_type": "execute_result"
    },
    {
     "data": {
      "text/plain": [
       "[<matplotlib.lines.Line2D at 0x1ba0827e588>]"
      ]
     },
     "execution_count": 16,
     "metadata": {},
     "output_type": "execute_result"
    },
    {
     "data": {
      "text/plain": [
       "[<matplotlib.lines.Line2D at 0x1ba082aa948>]"
      ]
     },
     "execution_count": 16,
     "metadata": {},
     "output_type": "execute_result"
    },
    {
     "data": {
      "text/plain": [
       "[<matplotlib.lines.Line2D at 0x1ba081cca48>]"
      ]
     },
     "execution_count": 16,
     "metadata": {},
     "output_type": "execute_result"
    },
    {
     "data": {
      "text/plain": [
       "<matplotlib.legend.Legend at 0x1ba081a4508>"
      ]
     },
     "execution_count": 16,
     "metadata": {},
     "output_type": "execute_result"
    },
    {
     "data": {
      "text/plain": [
       "Text(0.5, 0, 'Date')"
      ]
     },
     "execution_count": 16,
     "metadata": {},
     "output_type": "execute_result"
    },
    {
     "data": {
      "text/plain": [
       "Text(0, 0.5, 'Weekly Sales')"
      ]
     },
     "execution_count": 16,
     "metadata": {},
     "output_type": "execute_result"
    },
    {
     "data": {
      "image/png": "[encoded data removed]",
      "text/plain": [
       "<Figure size 720x432 with 1 Axes>"
      ]
     },
     "metadata": {
      "needs_background": "light"
     },
     "output_type": "display_data"
    }
   ],
   "source": [
    "# Predicting the test values using predict function.\n",
    "forecast = model_auto_arima.predict(n_periods=len(test_data))\n",
    "forecast = pd.DataFrame(forecast,index = test_data.index,columns=['Prediction'])\n",
    "plt.figure(figsize=(10,6))\n",
    "plt.title('Prediction of Weekly Sales using Auto ARIMA model', fontsize=10)\n",
    "plt.plot(train_data, label='Train')\n",
    "plt.plot(test_data, label='Test')\n",
    "plt.plot(forecast, label='Prediction using ARIMA Model')\n",
    "plt.legend(loc='best')\n",
    "plt.xlabel('Date', fontsize=14)\n",
    "plt.ylabel('Weekly Sales', fontsize=14)\n",
    "plt.show()"
   ]
  },
  {
   "cell_type": "code",
   "execution_count": 17,
   "metadata": {},
   "outputs": [
    {
     "name": "stdout",
     "output_type": "stream",
     "text": [
      "Mean Squared Error (MSE) of ARIMA:  360462.3015824534\n",
      "Root Mean Squared Error (RMSE) of ARIMA:  600.3851277159132\n",
      "Mean Absolute Deviation (MAD) of ARIMA:  415.0741239933817\n"
     ]
    }
   ],
   "source": [
    "# Performance metric for ARIMA model -MSE/RMSE\n",
    "print('Mean Squared Error (MSE) of ARIMA: ', mean_squared_error(test_data, forecast))\n",
    "print('Root Mean Squared Error (RMSE) of ARIMA: ', math.sqrt(mean_squared_error(test_data, forecast)))\n",
    "print('Mean Absolute Deviation (MAD) of ARIMA: ', mean_absolute_error(test_data, forecast))"
   ]
  },
  {
   "cell_type": "code",
   "execution_count": null,
   "metadata": {},
   "outputs": [],
   "source": []
  }
 ],
 "metadata": {
  "kernelspec": {
   "display_name": "Python 3",
   "language": "python",
   "name": "python3"
  },
  "language_info": {
   "codemirror_mode": {
    "name": "ipython",
    "version": 3
   },
   "file_extension": ".py",
   "mimetype": "text/x-python",
   "name": "python",
   "nbconvert_exporter": "python",
   "pygments_lexer": "ipython3",
   "version": "3.7.4"
  }
 },
 "nbformat": 4,
 "nbformat_minor": 2
}
